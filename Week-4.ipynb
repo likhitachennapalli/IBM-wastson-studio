{
    "cells": [
        {
            "cell_type": "markdown",
            "metadata": {
                "collapsed": true
            },
            "source": "# Introduction \n## Business problem"
        },
        {
            "cell_type": "markdown",
            "metadata": {},
            "source": "##### Main purpose of this project is to suggest users restuarents deping on the location"
        },
        {
            "cell_type": "markdown",
            "metadata": {},
            "source": "Using foresquare website to suggest user resurants depending on their requirment, there location and the proximity "
        },
        {
            "cell_type": "markdown",
            "metadata": {},
            "source": "### Target audience"
        },
        {
            "cell_type": "markdown",
            "metadata": {},
            "source": "People who want to explore restuarnts or bars depending on there location or ratings"
        }
    ],
    "metadata": {
        "kernelspec": {
            "display_name": "Python 3.6",
            "language": "python",
            "name": "python3"
        },
        "language_info": {
            "codemirror_mode": {
                "name": "ipython",
                "version": 3
            },
            "file_extension": ".py",
            "mimetype": "text/x-python",
            "name": "python",
            "nbconvert_exporter": "python",
            "pygments_lexer": "ipython3",
            "version": "3.6.9"
        }
    },
    "nbformat": 4,
    "nbformat_minor": 1
}